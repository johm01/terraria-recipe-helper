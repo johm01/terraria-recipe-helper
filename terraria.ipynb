{
 "cells": [
  {
   "cell_type": "code",
   "execution_count": 29,
   "metadata": {},
   "outputs": [
    {
     "name": "stdout",
     "output_type": "stream",
     "text": [
      "1 Second Timer\n",
      "Platinum Watch\n"
     ]
    },
    {
     "data": {
      "text/plain": [
       "'None583'"
      ]
     },
     "execution_count": 29,
     "metadata": {},
     "output_type": "execute_result"
    }
   ],
   "source": [
    "import json\n",
    "\n",
    "# Return item id \n",
    "def get_id(name: str) -> int:\n",
    "    with open('./items.json') as r:\n",
    "        data = json.load(r)\n",
    "\n",
    "        answ = []\n",
    "        id = []\n",
    "        for i in range(len(data)):\n",
    "            if name == data[i]['name']:\n",
    "                answ.append(data[i]['name'])\n",
    "                id.append(data[i]['id'])\n",
    "            if name == '':\n",
    "                answ.append(data[i])\n",
    "        return ''.join(id)\n",
    "\n",
    "# Return item name with id\n",
    "def get_item(id: str):\n",
    "    with open('./items.json') as r:\n",
    "        data = json.load(r)\n",
    "        for i in range(len(data)):\n",
    "            if id == data[i]['id']:\n",
    "                print(data[i]['name'])\n",
    "   \n",
    "# Get an items recipe\n",
    "def get_recipe(id: str) -> str:\n",
    "    with open('./recipes.json') as r:\n",
    "        data = json.load(r)\n",
    "        for i in range(len(data)):\n",
    "            if id == data[i]['id']:\n",
    "                ing = get_item(data[i]['ingredient1'])\n",
    "                return str(ing) + str(data[i]['name'])\n",
    "                \n",
    "get_item(\"583\")\n",
    "get_recipe(\"2\")\n",
    "   "
   ]
  },
  {
   "cell_type": "code",
   "execution_count": null,
   "metadata": {},
   "outputs": [],
   "source": []
  }
 ],
 "metadata": {
  "kernelspec": {
   "display_name": "Python 3",
   "language": "python",
   "name": "python3"
  },
  "language_info": {
   "codemirror_mode": {
    "name": "ipython",
    "version": 3
   },
   "file_extension": ".py",
   "mimetype": "text/x-python",
   "name": "python",
   "nbconvert_exporter": "python",
   "pygments_lexer": "ipython3",
   "version": "3.11.0"
  },
  "orig_nbformat": 4,
  "vscode": {
   "interpreter": {
    "hash": "1810d9e8769a58bc9a5d01c8f7026fdb0bc24e1512d42f8124c128688bc6a330"
   }
  }
 },
 "nbformat": 4,
 "nbformat_minor": 2
}
